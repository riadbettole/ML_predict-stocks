{
 "cells": [
  {
   "cell_type": "code",
   "execution_count": 18,
   "id": "96a6d109-e4fe-424d-a513-5460af780ee2",
   "metadata": {},
   "outputs": [],
   "source": [
    "import numpy as np\n",
    "import matplotlib.pyplot as plt\n",
    "from sklearn import svm, preprocessing\n",
    "import pandas as pd\n",
    "from matplotlib import style\n",
    "import statistics\n",
    "style.use(\"ggplot\")"
   ]
  },
  {
   "cell_type": "code",
   "execution_count": 2,
   "id": "a33aa6f3-7ff2-41b5-8252-a3a5e4d59dda",
   "metadata": {},
   "outputs": [],
   "source": [
    "FEATURES =  ['DE Ratio',\n",
    "             'Trailing P/E',\n",
    "             'Price/Sales',\n",
    "             'Price/Book',\n",
    "             'Profit Margin',\n",
    "             'Operating Margin',\n",
    "             'Return on Assets',\n",
    "             'Return on Equity',\n",
    "             'Revenue Per Share',\n",
    "             'Market Cap',\n",
    "             'Enterprise Value',\n",
    "             'Forward P/E',\n",
    "             'PEG Ratio',\n",
    "             'Enterprise Value/Revenue',\n",
    "             'Enterprise Value/EBITDA',\n",
    "             'Revenue',\n",
    "             'Gross Profit',\n",
    "             'EBITDA',\n",
    "             'Net Income Avl to Common ',\n",
    "             'Diluted EPS',\n",
    "             'Earnings Growth',\n",
    "             'Revenue Growth',\n",
    "             'Total Cash',\n",
    "             'Total Cash Per Share',\n",
    "             'Total Debt',\n",
    "             'Current Ratio',\n",
    "             'Book Value Per Share',\n",
    "             'Cash Flow',\n",
    "             'Beta',\n",
    "             'Held by Insiders',\n",
    "             'Held by Institutions',\n",
    "             'Shares Short (as of',\n",
    "             'Short Ratio',\n",
    "             'Short % of Float',\n",
    "             'Shares Short (prior ']"
   ]
  },
  {
   "cell_type": "code",
   "execution_count": 19,
   "id": "e4f07f93-c0f1-4226-9f50-bae91018c4b3",
   "metadata": {},
   "outputs": [],
   "source": [
    "def Build_Data_Set():\n",
    "    #data_df = pd.read_csv(\"key_stats_acc_perf_WITH_NA.csv\")\n",
    "    data_df = pd.read_csv(\"key_stats_acc_perf_NO_NA.csv\")\n",
    "    #data_df = data_df[:100]\n",
    "    data_df = data_df.reindex(np.random.permutation(data_df.index))\n",
    "    data_df = data_df.replace(\"NaN\", 0).replace(\"N/A\", 0)\n",
    "    \n",
    "    X = np.array(data_df[FEATURES].values)#.tolist())\n",
    "    y = (data_df[\"Status\"]\n",
    "         .replace(\"underperform\",0)\n",
    "         .replace(\"outperform\",1)\n",
    "         .values.tolist())\n",
    "\n",
    "    X = preprocessing.scale(X)\n",
    "\n",
    "    Z = np.array(data_df[[\"stock_p_change\",\"sp500_p_change\"]])\n",
    "    return X, y, Z"
   ]
  },
  {
   "cell_type": "code",
   "execution_count": 40,
   "id": "57c111dc-cfca-4aa7-9631-2bea85bf211c",
   "metadata": {},
   "outputs": [
    {
     "name": "stderr",
     "output_type": "stream",
     "text": [
      "C:\\Users\\riadb\\AppData\\Local\\Temp\\ipykernel_16408\\3182322414.py:11: FutureWarning: Downcasting behavior in `replace` is deprecated and will be removed in a future version. To retain the old behavior, explicitly call `result.infer_objects(copy=False)`. To opt-in to the future behavior, set `pd.set_option('future.no_silent_downcasting', True)`\n",
      "  .replace(\"outperform\",1)\n",
      "C:\\Users\\riadb\\miniconda3\\envs\\pydata-book\\Lib\\site-packages\\sklearn\\preprocessing\\_data.py:261: UserWarning: Numerical issues were encountered when centering the data and might not be solved. Dataset may contain too large values. You may need to prescale your features.\n",
      "  warnings.warn(\n"
     ]
    },
    {
     "name": "stdout",
     "output_type": "stream",
     "text": [
      "3012\n",
      "Accuracy: 58.4\n",
      "Total Trades: 731\n",
      "Ending with Strategy 8867893.0\n",
      "Ending with Market 8225308.0\n",
      "Compared to market, we earn 7.8122910412594875% more\n",
      "Average investment return: 21.311805745554036%\n",
      "Average market return: 12.521313269493845%\n"
     ]
    }
   ],
   "source": [
    "def Analysis():\n",
    "    \n",
    "    test_size = 1000\n",
    "    invest_amount = 10000\n",
    "    total_invests = 0\n",
    "    if_market = 0\n",
    "    if_strat = 0\n",
    "    \n",
    "    X, y, Z = Build_Data_Set()\n",
    "    print (len (X))\n",
    "    #Z = np.nan_to_num(X)\n",
    "    clf =svm.SVC(kernel=\"linear\", C= 1.0)\n",
    "    clf.fit(X[ :- test_size], y[ :- test_size])\n",
    "    \n",
    "    correct_count = 0\n",
    "    \n",
    "    for x in range(1, test_size+1) :\n",
    "        if clf.predict([X[-x]]) [0] == y[-x]:\n",
    "            correct_count += 1\n",
    "        if clf.predict([X[-x]]) [0] == 1:\n",
    "            if np.isnan(Z[-x][0]) or np.isnan(Z[-x][1]):\n",
    "                continue\n",
    "\n",
    "            invest_return = invest_amount + (invest_amount * (Z[-x][0]/100))\n",
    "            market_return = invest_amount + (invest_amount * (Z[-x][1]/100))\n",
    "\n",
    "            total_invests += 1\n",
    "            \n",
    "            if_market += market_return\n",
    "            if_strat += invest_return\n",
    "\n",
    "    print(\"Accuracy:\", (correct_count/test_size)* 100.00)\n",
    "    \n",
    "    print(\"Total Trades:\", total_invests)\n",
    "    print(\"Ending with Strategy\", if_strat)\n",
    "    print(\"Ending with Market\", if_market)\n",
    "\n",
    "    compared = ((if_strat - if_market) / if_market) * 100.0\n",
    "    do_nothing = total_invests * invest_amount\n",
    "\n",
    "    avg_market = ((if_market - do_nothing) / do_nothing) * 100.0\n",
    "    avg_strat = ((if_strat - do_nothing) / do_nothing) * 100.0\n",
    "\n",
    "    \n",
    "    \n",
    "    print(\"Compared to market, we earn\", str(compared)+\"% more\")\n",
    "    print(\"Average investment return:\", str(avg_strat)+\"%\")\n",
    "    print(\"Average market return:\", str(avg_market)+\"%\")\n",
    "    \n",
    "\n",
    "Analysis()"
   ]
  },
  {
   "cell_type": "code",
   "execution_count": null,
   "id": "e6cf8d92-31ec-4bcc-ad7b-3b56e8b4036d",
   "metadata": {},
   "outputs": [],
   "source": []
  }
 ],
 "metadata": {
  "kernelspec": {
   "display_name": "Python 3 (ipykernel)",
   "language": "python",
   "name": "python3"
  },
  "language_info": {
   "codemirror_mode": {
    "name": "ipython",
    "version": 3
   },
   "file_extension": ".py",
   "mimetype": "text/x-python",
   "name": "python",
   "nbconvert_exporter": "python",
   "pygments_lexer": "ipython3",
   "version": "3.12.2"
  }
 },
 "nbformat": 4,
 "nbformat_minor": 5
}
