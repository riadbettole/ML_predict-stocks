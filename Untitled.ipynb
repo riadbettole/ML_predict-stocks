{
 "cells": [
  {
   "cell_type": "code",
   "execution_count": 2,
   "id": "2377a1f5-21ca-468d-a82e-9b1bb6a5f079",
   "metadata": {},
   "outputs": [
    {
     "name": "stdout",
     "output_type": "stream",
     "text": [
      "hello world\n"
     ]
    }
   ],
   "source": [
    "print(\"hello world\")"
   ]
  },
  {
   "cell_type": "code",
   "execution_count": 4,
   "id": "6f7756a2-d2af-418a-95bf-e775b0c87115",
   "metadata": {},
   "outputs": [
    {
     "data": {
      "text/plain": [
       "'C:\\\\Users\\\\riadb\\\\Jupyter Projects\\\\test'"
      ]
     },
     "execution_count": 4,
     "metadata": {},
     "output_type": "execute_result"
    }
   ],
   "source": [
    "%pwd"
   ]
  },
  {
   "cell_type": "code",
   "execution_count": 5,
   "id": "cca99b1e-e603-435a-9466-eb987da923a1",
   "metadata": {},
   "outputs": [],
   "source": [
    "b = [1, 2, 3]"
   ]
  },
  {
   "cell_type": "code",
   "execution_count": 7,
   "id": "a1ec1408-c75d-47ff-afc8-70cb76a681b1",
   "metadata": {},
   "outputs": [],
   "source": [
    "a = 1, 2, 3"
   ]
  },
  {
   "cell_type": "code",
   "execution_count": 14,
   "id": "7cfaa054-7546-4fbc-bae3-4eb47455d5ec",
   "metadata": {},
   "outputs": [],
   "source": [
    "import numpy as np"
   ]
  },
  {
   "cell_type": "code",
   "execution_count": 16,
   "id": "5f391f4e-3e3a-4639-91cb-2fa2c9020e04",
   "metadata": {},
   "outputs": [],
   "source": [
    "my_arr = np.arange(1_000_000)"
   ]
  },
  {
   "cell_type": "code",
   "execution_count": 18,
   "id": "6d63fe61-f750-416f-986f-dcfbee429d72",
   "metadata": {},
   "outputs": [],
   "source": [
    "my_list = list(range(1_000_000))"
   ]
  },
  {
   "cell_type": "code",
   "execution_count": 22,
   "id": "e530656a-e45e-4eaf-96c6-c60867ec6b87",
   "metadata": {},
   "outputs": [
    {
     "name": "stdout",
     "output_type": "stream",
     "text": [
      "642 µs ± 13 µs per loop (mean ± std. dev. of 7 runs, 1,000 loops each)\n"
     ]
    }
   ],
   "source": [
    "%timeit my_arr2 = my_arr * 2"
   ]
  },
  {
   "cell_type": "code",
   "execution_count": 21,
   "id": "52fc1a5d-1c8a-4e6e-b8bb-5f90cf33eff5",
   "metadata": {},
   "outputs": [
    {
     "name": "stdout",
     "output_type": "stream",
     "text": [
      "44.3 ms ± 329 µs per loop (mean ± std. dev. of 7 runs, 10 loops each)\n"
     ]
    }
   ],
   "source": [
    "%timeit my_list2 = [ x**2 for x in my_list ]"
   ]
  },
  {
   "cell_type": "code",
   "execution_count": 24,
   "id": "a84ae8f6-3627-46fa-83f9-0b9bbadac3e3",
   "metadata": {},
   "outputs": [],
   "source": [
    "data = np.array([[1.5, -0.1, 3], [0, -3, 6.5]])"
   ]
  },
  {
   "cell_type": "code",
   "execution_count": 30,
   "id": "904eacf2-94c6-40a1-ad2c-faf60f487abb",
   "metadata": {},
   "outputs": [
    {
     "data": {
      "text/plain": [
       "array([[1., 0., 0.],\n",
       "       [0., 1., 0.],\n",
       "       [0., 0., 1.]])"
      ]
     },
     "execution_count": 30,
     "metadata": {},
     "output_type": "execute_result"
    }
   ],
   "source": [
    "data2 = np.identity(3)\n",
    "data2"
   ]
  },
  {
   "cell_type": "code",
   "execution_count": 33,
   "id": "3704fff2-356b-4e28-8a99-3420c117052b",
   "metadata": {},
   "outputs": [
    {
     "data": {
      "text/plain": [
       "array([[1, 2, 3],\n",
       "       [4, 5, 6],\n",
       "       [7, 8, 9]])"
      ]
     },
     "execution_count": 33,
     "metadata": {},
     "output_type": "execute_result"
    }
   ],
   "source": [
    "dataTEST = np.array([[1,2,3],[4,5,6],[7,8,9]])\n",
    "dataTEST"
   ]
  },
  {
   "cell_type": "code",
   "execution_count": 65,
   "id": "52d83f9a-7292-4eff-a10b-ff39e7d7690c",
   "metadata": {},
   "outputs": [
    {
     "data": {
      "text/plain": [
       "array([[3]])"
      ]
     },
     "execution_count": 65,
     "metadata": {},
     "output_type": "execute_result"
    }
   ],
   "source": [
    "dataTEST[:1,-1:]"
   ]
  },
  {
   "cell_type": "code",
   "execution_count": 66,
   "id": "5a105649-aa0a-4a22-b2d0-97a6e196b570",
   "metadata": {},
   "outputs": [],
   "source": [
    "names = np.array([\"Bob\", \"Joe\", \"Will\", \"Bob\", \"Will\", \"Joe\", \"Joe\"])\n",
    "\n",
    "data = np.array([[4, 7], [0, 2], [-5, 6], [0, 0], [1, 2],\n",
    "[-12, -4], [3, 4]])"
   ]
  },
  {
   "cell_type": "code",
   "execution_count": 68,
   "id": "cf68d4fd-144b-4883-a461-38d32557a851",
   "metadata": {},
   "outputs": [
    {
     "data": {
      "text/plain": [
       "array([[4, 7],\n",
       "       [0, 0]])"
      ]
     },
     "execution_count": 68,
     "metadata": {},
     "output_type": "execute_result"
    }
   ],
   "source": [
    "names == \"Bob\"\n",
    "data[names == \"Bob\"]"
   ]
  },
  {
   "cell_type": "code",
   "execution_count": 78,
   "id": "f479250d-e851-4c34-926f-d09a0eeb24fe",
   "metadata": {},
   "outputs": [],
   "source": [
    "arr = np.zeros((8, 4))\n",
    "for index, i in enumerate(reversed(range(8))):\n",
    "    arr[index] = i"
   ]
  },
  {
   "cell_type": "code",
   "execution_count": 86,
   "id": "69455d8b-b5f3-4177-b34c-448f0753f92f",
   "metadata": {},
   "outputs": [
    {
     "data": {
      "text/plain": [
       "array([[  14,   38,   62,   86,  110,  134,  158,  182],\n",
       "       [  38,  126,  214,  302,  390,  478,  566,  654],\n",
       "       [  62,  214,  366,  518,  670,  822,  974, 1126],\n",
       "       [  86,  302,  518,  734,  950, 1166, 1382, 1598],\n",
       "       [ 110,  390,  670,  950, 1230, 1510, 1790, 2070],\n",
       "       [ 134,  478,  822, 1166, 1510, 1854, 2198, 2542],\n",
       "       [ 158,  566,  974, 1382, 1790, 2198, 2606, 3014],\n",
       "       [ 182,  654, 1126, 1598, 2070, 2542, 3014, 3486]])"
      ]
     },
     "execution_count": 86,
     "metadata": {},
     "output_type": "execute_result"
    }
   ],
   "source": [
    "arr = np.arange(32).reshape((8,4))\n",
    "np.dot(arr,arr.T)"
   ]
  },
  {
   "cell_type": "code",
   "execution_count": 87,
   "id": "58b18e21-8252-4896-9250-325ee20c6032",
   "metadata": {},
   "outputs": [],
   "source": [
    "from random import normalvariate\n",
    "N = 1_000_000"
   ]
  },
  {
   "cell_type": "code",
   "execution_count": 88,
   "id": "f4e3a4e1-347a-4421-a96c-6cc2268e0a55",
   "metadata": {},
   "outputs": [
    {
     "name": "stdout",
     "output_type": "stream",
     "text": [
      "363 ms ± 2.15 ms per loop (mean ± std. dev. of 7 runs, 1 loop each)\n"
     ]
    }
   ],
   "source": [
    "%timeit samples = [normalvariate(0, 1) for _ in range(N)]"
   ]
  },
  {
   "cell_type": "code",
   "execution_count": 89,
   "id": "736b1af2-4930-49e0-b869-6b0966e16391",
   "metadata": {},
   "outputs": [
    {
     "name": "stdout",
     "output_type": "stream",
     "text": [
      "11.9 ms ± 10.8 µs per loop (mean ± std. dev. of 7 runs, 100 loops each)\n"
     ]
    }
   ],
   "source": [
    "%timeit np.random.standard_normal(N)"
   ]
  },
  {
   "cell_type": "code",
   "execution_count": 102,
   "id": "61a54774-e570-4dc5-a5de-913dc910727a",
   "metadata": {},
   "outputs": [
    {
     "name": "stderr",
     "output_type": "stream",
     "text": [
      "C:\\Users\\riadb\\AppData\\Local\\Temp\\ipykernel_14392\\1967781869.py:4: RuntimeWarning: divide by zero encountered in divide\n",
      "  xs / ys\n",
      "C:\\Users\\riadb\\AppData\\Local\\Temp\\ipykernel_14392\\1967781869.py:4: RuntimeWarning: invalid value encountered in divide\n",
      "  xs / ys\n"
     ]
    },
    {
     "data": {
      "text/plain": [
       "array([[ 1.        ,  0.8       ,  0.6       ,  0.4       ,  0.2       ,\n",
       "        -0.        , -0.2       , -0.4       , -0.6       , -0.8       ],\n",
       "       [ 1.25      ,  1.        ,  0.75      ,  0.5       ,  0.25      ,\n",
       "        -0.        , -0.25      , -0.5       , -0.75      , -1.        ],\n",
       "       [ 1.66666667,  1.33333333,  1.        ,  0.66666667,  0.33333333,\n",
       "        -0.        , -0.33333333, -0.66666667, -1.        , -1.33333333],\n",
       "       [ 2.5       ,  2.        ,  1.5       ,  1.        ,  0.5       ,\n",
       "        -0.        , -0.5       , -1.        , -1.5       , -2.        ],\n",
       "       [ 5.        ,  4.        ,  3.        ,  2.        ,  1.        ,\n",
       "        -0.        , -1.        , -2.        , -3.        , -4.        ],\n",
       "       [       -inf,        -inf,        -inf,        -inf,        -inf,\n",
       "                nan,         inf,         inf,         inf,         inf],\n",
       "       [-5.        , -4.        , -3.        , -2.        , -1.        ,\n",
       "         0.        ,  1.        ,  2.        ,  3.        ,  4.        ],\n",
       "       [-2.5       , -2.        , -1.5       , -1.        , -0.5       ,\n",
       "         0.        ,  0.5       ,  1.        ,  1.5       ,  2.        ],\n",
       "       [-1.66666667, -1.33333333, -1.        , -0.66666667, -0.33333333,\n",
       "         0.        ,  0.33333333,  0.66666667,  1.        ,  1.33333333],\n",
       "       [-1.25      , -1.        , -0.75      , -0.5       , -0.25      ,\n",
       "         0.        ,  0.25      ,  0.5       ,  0.75      ,  1.        ]])"
      ]
     },
     "execution_count": 102,
     "metadata": {},
     "output_type": "execute_result"
    }
   ],
   "source": [
    "points = np.arange(-5, 5, 1) \n",
    "points\n",
    "xs, ys = np.meshgrid(points, points)\n",
    "xs ys"
   ]
  }
 ],
 "metadata": {
  "kernelspec": {
   "display_name": "Python 3 (ipykernel)",
   "language": "python",
   "name": "python3"
  },
  "language_info": {
   "codemirror_mode": {
    "name": "ipython",
    "version": 3
   },
   "file_extension": ".py",
   "mimetype": "text/x-python",
   "name": "python",
   "nbconvert_exporter": "python",
   "pygments_lexer": "ipython3",
   "version": "3.12.2"
  }
 },
 "nbformat": 4,
 "nbformat_minor": 5
}
